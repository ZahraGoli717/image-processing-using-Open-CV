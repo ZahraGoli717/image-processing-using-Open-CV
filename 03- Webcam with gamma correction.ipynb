{
 "cells": [
  {
   "cell_type": "markdown",
   "id": "18844fca",
   "metadata": {},
   "source": [
    "## <span style='color:#4B0082'> perform real-time gamma correction on video frames captured from a webcam</span>"
   ]
  },
  {
   "cell_type": "code",
   "execution_count": 3,
   "id": "230dd3ff",
   "metadata": {},
   "outputs": [],
   "source": [
    "import cv2  \n",
    "import numpy as np  \n",
    " \n",
    "# Initialize video capture from the default camera (0)\n",
    "cap = cv2.VideoCapture(0)  \n",
    " \n",
    "# Set the gamma value for correction (lower values darken the image)\n",
    "gamma = 0.4  \n",
    " \n",
    "# Create a lookup table for gamma correction with 256 entries\n",
    "lookUpTable = np.empty((1, 256), np.uint8)  \n",
    " \n",
    "# Populate the lookup table with gamma corrected values\n",
    "for i in range(256):\n",
    "    # Apply the gamma correction formula and clip the value to be in the range [0, 255]\n",
    "    lookUpTable[0, i] = np.clip(pow(i / 255.0, gamma) * 255.0, 0, 255)  \n",
    " \n",
    "\n",
    "while True:\n",
    "    \n",
    "    # Read a frame from the camera\n",
    "    ret, frame = cap.read()  \n",
    "    \n",
    "    # Apply the gamma correction to the captured frame using the lookup table\n",
    "    gammacorrected = cv2.LUT(frame, lookUpTable)  \n",
    "    \n",
    "    # Display the original frame in a window named 'Original'\n",
    "    cv2.imshow('Original', frame)  \n",
    "    \n",
    "    # Display the gamma corrected frame in a window named 'Gamma correction'\n",
    "    cv2.imshow('Gamma correction', gammacorrected)  \n",
    "    \n",
    "    # Check if the 'q' key is pressed; if so, break the loop\n",
    "    if cv2.waitKey(1) & 0xFF == ord('q'):  \n",
    "        break  \n",
    " \n",
    "# Release the camera resource and close all OpenCV windows\n",
    "cap.release()  \n",
    "cv2.destroyAllWindows()  "
   ]
  }
 ],
 "metadata": {
  "kernelspec": {
   "display_name": "Python 3 (ipykernel)",
   "language": "python",
   "name": "python3"
  },
  "language_info": {
   "codemirror_mode": {
    "name": "ipython",
    "version": 3
   },
   "file_extension": ".py",
   "mimetype": "text/x-python",
   "name": "python",
   "nbconvert_exporter": "python",
   "pygments_lexer": "ipython3",
   "version": "3.11.5"
  }
 },
 "nbformat": 4,
 "nbformat_minor": 5
}
