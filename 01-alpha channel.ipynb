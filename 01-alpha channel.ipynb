{
 "cells": [
  {
   "cell_type": "markdown",
   "id": "66e85bb8",
   "metadata": {},
   "source": [
    "# <span style='color:#4B0082'> Alpha Channel </span>\n",
    "The alpha channel is one of the important features in image processing that control the transparency of a pixel in an image. A digital image in general consists of three basic color channels,<span style=\"color:red\"> Red</span>, <span style=\"color:green\"> Green </span> and <span style=\"color:blue\"> Blue</span> (RGB) but we can also add a fourth channel: alpha channel which would enable us to store data regarding transparency. \n",
    " \n",
    "▎ **Definition of Alpha Channel**  <br/> \n",
    "Alpha channel indicates how much a given pixel will be transparent or visible. In 8 bit form the data is usually stored in a range from 0 to 255:<br/>\n",
    "• Value 0: Makes a pixel fully transparent (invisible)  \n",
    "• Value 255: Makes a pixel opaque (fully visible)  \n",
    "• 0 < Value < 255: varying levels of partial transparency \n",
    "\n",
    "▎ **Applications** <br/>1. Graphic design: The designers can use alpha channel on the logo or image to creat soft edges  and also merge various images.<br/>\n",
    "2. Computer Game: In games, various objects like characters and special effects can be placed more naturally and with higher quality on scenes using the alpha channel. </span>"
   ]
  },
  {
   "cell_type": "code",
   "execution_count": 2,
   "id": "6d99fa9b",
   "metadata": {},
   "outputs": [],
   "source": [
    "import cv2\n",
    "import numpy as np\n",
    "import matplotlib.pyplot as plt\n"
   ]
  },
  {
   "cell_type": "code",
   "execution_count": 3,
   "id": "7d223786",
   "metadata": {},
   "outputs": [],
   "source": [
    "image = cv2.imread('MonaLisa.jpg')\n",
    "height, width = image.shape[:2]\n",
    "\n",
    "row_start, row_end = 77, 350\n",
    "rows=row_end-row_start\n",
    "\n",
    "col_start, col_end = 182, 390\n",
    "clos=col_end-col_start\n",
    "\n",
    "cropped = image[row_start:row_end, col_start:col_end]\n",
    "#plt.imshow(cropped[...,::-1])"
   ]
  },
  {
   "cell_type": "code",
   "execution_count": 4,
   "id": "8ef0b429",
   "metadata": {},
   "outputs": [],
   "source": [
    "alpha=0.1 #alpha is between 0-1\n",
    "Rect1 = np.ones((height, width), np.uint8)*255*alpha\n",
    "Rect2=np.ones((rows,clos), np.uint8)*255\n",
    "Rect1[row_start:row_end, col_start:col_end]=Rect2"
   ]
  },
  {
   "cell_type": "code",
   "execution_count": 8,
   "id": "209222be",
   "metadata": {},
   "outputs": [
    {
     "data": {
      "text/plain": [
       "True"
      ]
     },
     "execution_count": 8,
     "metadata": {},
     "output_type": "execute_result"
    }
   ],
   "source": [
    "png_image = np.zeros((height,width,4), np.uint8)\n",
    "png_image[:,:,0:3] = image\n",
    "png_image[:,:,3]= Rect1\n",
    "cv2.imwrite(\"MonaLisaTransparent.png\", png_image)  # find the saved image in images"
   ]
  }
 ],
 "metadata": {
  "kernelspec": {
   "display_name": "Python 3 (ipykernel)",
   "language": "python",
   "name": "python3"
  },
  "language_info": {
   "codemirror_mode": {
    "name": "ipython",
    "version": 3
   },
   "file_extension": ".py",
   "mimetype": "text/x-python",
   "name": "python",
   "nbconvert_exporter": "python",
   "pygments_lexer": "ipython3",
   "version": "3.11.5"
  }
 },
 "nbformat": 4,
 "nbformat_minor": 5
}
